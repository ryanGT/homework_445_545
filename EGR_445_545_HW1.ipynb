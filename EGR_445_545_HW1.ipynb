{
 "cells": [
  {
   "cell_type": "markdown",
   "id": "777e5eeb-9664-4f6b-ac94-e88a1d23106a",
   "metadata": {},
   "source": [
    "## EGR 445/545 HW 1"
   ]
  },
  {
   "cell_type": "code",
   "execution_count": 1,
   "id": "b3f073f5-eba4-4d0e-b5c9-5ab145e2546c",
   "metadata": {},
   "outputs": [],
   "source": [
    "%matplotlib inline\n",
    "import matplotlib.pyplot as plt\n",
    "import numpy as np\n",
    "from numpy import sin, cos, tan, pi\n",
    "rtd = 180/pi\n",
    "dtr = pi/180\n",
    "import robotics\n",
    "from robotics import Rx, Ry, Rz, sind, cosd, DH"
   ]
  },
  {
   "cell_type": "markdown",
   "id": "17674430-3a2a-4806-840b-99adb11eea86",
   "metadata": {},
   "source": [
    "### Problem 1\n",
    "\n",
    "For the sketch below, find $^AP$\n",
    "\n",
    "<img src=\"https://faculty.gvsu.edu/kraussry/445_images/hw/hw1/hw1_p1.png\" width=600px>\n"
   ]
  },
  {
   "cell_type": "markdown",
   "id": "938a4554-295e-4008-a65d-caa1bf82a791",
   "metadata": {},
   "source": [
    "### Problem 2\n",
    "\n",
    "For the sketch below, find $^BP$\n",
    "\n",
    "<img src=\"https://faculty.gvsu.edu/kraussry/445_images/hw/hw1/hw1_p2.png\" width=600px>\n"
   ]
  },
  {
   "cell_type": "markdown",
   "id": "2b007f90-f425-43fc-823b-718be800b9c7",
   "metadata": {},
   "source": [
    "### Problem 3\n",
    "\n",
    "For the sketch below, find $^AP$ and $^BP$\n",
    "\n",
    "<img src=\"https://faculty.gvsu.edu/kraussry/445_images/hw/hw1/hw1_p3.png\" width=600px>\n"
   ]
  },
  {
   "cell_type": "markdown",
   "id": "b2f47a52-eea3-4e98-9bc0-6ad014ce3f0c",
   "metadata": {},
   "source": [
    "### Problem 4\n",
    "\n",
    "\n",
    "Draw the appropriate sketches and derive $^A_B\\mathbf{R}$ for $\\mathbf{R}_x(\\theta)$, a rotation by angle $\\theta$ about the $\\hat{X}$ axis.\n",
    "\n",
    "Submit a scan of your work to BB"
   ]
  },
  {
   "cell_type": "code",
   "execution_count": null,
   "id": "962784a7-6900-4d88-b5e1-e4aaf2572600",
   "metadata": {},
   "outputs": [],
   "source": []
  }
 ],
 "metadata": {
  "kernelspec": {
   "display_name": "Python 3 (ipykernel)",
   "language": "python",
   "name": "python3"
  },
  "language_info": {
   "codemirror_mode": {
    "name": "ipython",
    "version": 3
   },
   "file_extension": ".py",
   "mimetype": "text/x-python",
   "name": "python",
   "nbconvert_exporter": "python",
   "pygments_lexer": "ipython3",
   "version": "3.13.3"
  }
 },
 "nbformat": 4,
 "nbformat_minor": 5
}
