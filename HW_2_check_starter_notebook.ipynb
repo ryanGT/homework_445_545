{
 "cells": [
  {
   "cell_type": "markdown",
   "id": "19a6d6f7-8439-4105-8e32-dd86c4adfebc",
   "metadata": {},
   "source": [
    "## Notes:\n",
    "\n",
    "- you may need to install `sympy`\n",
    "- you will need to install `robotics_sympy`\n",
    "- only install them once and then delete the cell that installs them:"
   ]
  },
  {
   "cell_type": "code",
   "execution_count": 14,
   "id": "b2ad8bbf-62f0-4143-9c33-79c95f9e1be8",
   "metadata": {},
   "outputs": [
    {
     "name": "stdout",
     "output_type": "stream",
     "text": [
      "\u001b[33mWARNING: Skipping /usr/local/lib/python3.12/site-packages/certifi-2024.2.2.dist-info due to invalid metadata entry 'name'\u001b[0m\u001b[33m\n",
      "\u001b[0mRequirement already satisfied: robotics_sympy in /usr/local/lib/python3.12/site-packages (1.0.1)\n",
      "\u001b[33mWARNING: Skipping /usr/local/lib/python3.12/site-packages/certifi-2024.2.2.dist-info due to invalid metadata entry 'name'\u001b[0m\u001b[33m\n",
      "\u001b[0mNote: you may need to restart the kernel to use updated packages.\n"
     ]
    }
   ],
   "source": [
    "pip install robotics_sympy"
   ]
  },
  {
   "cell_type": "code",
   "execution_count": 2,
   "id": "51ce7613-606b-4b84-a127-6e3c413e2784",
   "metadata": {},
   "outputs": [],
   "source": [
    "import sympy"
   ]
  },
  {
   "cell_type": "code",
   "execution_count": 3,
   "id": "5b6c4a86-a0c9-4c84-afd3-946c174d4d73",
   "metadata": {},
   "outputs": [],
   "source": [
    "import robotics_sympy"
   ]
  },
  {
   "cell_type": "markdown",
   "id": "515f93b7-a20e-4153-8eed-b0652223c3eb",
   "metadata": {},
   "source": [
    "## Key Idea: \n",
    "\n",
    "You must define any symbolic variables you use with `sympy`:"
   ]
  },
  {
   "cell_type": "code",
   "execution_count": 15,
   "id": "85fc5265-9fbc-467e-ae25-641bd03d4652",
   "metadata": {},
   "outputs": [],
   "source": [
    "th1, th2, th3 = sympy.symbols(['\\\\theta_1', '\\\\theta_2','\\\\theta_3'])"
   ]
  },
  {
   "cell_type": "code",
   "execution_count": 16,
   "id": "98094c97-83cb-403d-809a-cc334d6c9085",
   "metadata": {},
   "outputs": [
    {
     "data": {
      "text/latex": [
       "$\\displaystyle \\theta_{1}$"
      ],
      "text/plain": [
       "\\theta_1"
      ]
     },
     "execution_count": 16,
     "metadata": {},
     "output_type": "execute_result"
    }
   ],
   "source": [
    "th1"
   ]
  },
  {
   "cell_type": "code",
   "execution_count": 17,
   "id": "9a728ac3-e387-4117-9641-947b3048f708",
   "metadata": {},
   "outputs": [
    {
     "data": {
      "text/latex": [
       "$\\displaystyle \\theta_{2}$"
      ],
      "text/plain": [
       "\\theta_2"
      ]
     },
     "execution_count": 17,
     "metadata": {},
     "output_type": "execute_result"
    }
   ],
   "source": [
    "th2"
   ]
  },
  {
   "cell_type": "code",
   "execution_count": 18,
   "id": "80e593a9-d1db-4ff5-88cb-80e3f4cced55",
   "metadata": {},
   "outputs": [
    {
     "data": {
      "text/latex": [
       "$\\displaystyle \\theta_{3}$"
      ],
      "text/plain": [
       "\\theta_3"
      ]
     },
     "execution_count": 18,
     "metadata": {},
     "output_type": "execute_result"
    }
   ],
   "source": [
    "th3"
   ]
  },
  {
   "cell_type": "markdown",
   "id": "281b28a5-d95e-401a-95b9-7db6833a3891",
   "metadata": {},
   "source": [
    "## Radians Note\n",
    "\n",
    "- `sympy` is written by mathematicians and assumes radians\n",
    "- we define symbolic variable for +90 and -90 to use in our DH matrices:"
   ]
  },
  {
   "cell_type": "code",
   "execution_count": 19,
   "id": "5cb0072c-6c33-4728-a07c-b22dbe042ed6",
   "metadata": {},
   "outputs": [
    {
     "data": {
      "text/latex": [
       "$\\displaystyle \\frac{\\pi}{2}$"
      ],
      "text/plain": [
       "pi/2"
      ]
     },
     "execution_count": 19,
     "metadata": {},
     "output_type": "execute_result"
    }
   ],
   "source": [
    "p90 = sympy.pi/2\n",
    "p90"
   ]
  },
  {
   "cell_type": "code",
   "execution_count": 21,
   "id": "21787755-86c4-4969-9656-ca22648b1b56",
   "metadata": {},
   "outputs": [
    {
     "data": {
      "text/latex": [
       "$\\displaystyle - \\frac{\\pi}{2}$"
      ],
      "text/plain": [
       "-pi/2"
      ]
     },
     "execution_count": 21,
     "metadata": {},
     "output_type": "execute_result"
    }
   ],
   "source": [
    "n90 = -1*p90\n",
    "n90"
   ]
  },
  {
   "cell_type": "code",
   "execution_count": 22,
   "id": "2f86ca96-5953-4e56-9307-e3d93337843b",
   "metadata": {},
   "outputs": [
    {
     "data": {
      "text/latex": [
       "$\\displaystyle \\left[\\begin{matrix}\\cos{\\left(\\theta_{1} \\right)} & - \\sin{\\left(\\theta_{1} \\right)} & 0 & 0\\\\\\sin{\\left(\\theta_{1} \\right)} & \\cos{\\left(\\theta_{1} \\right)} & 0 & 0\\\\0 & 0 & 1 & 0\\\\0 & 0 & 0 & 1\\end{matrix}\\right]$"
      ],
      "text/plain": [
       "Matrix([\n",
       "[cos(\\theta_1), -sin(\\theta_1), 0, 0],\n",
       "[sin(\\theta_1),  cos(\\theta_1), 0, 0],\n",
       "[            0,              0, 1, 0],\n",
       "[            0,              0, 0, 1]])"
      ]
     },
     "execution_count": 22,
     "metadata": {},
     "output_type": "execute_result"
    }
   ],
   "source": [
    "T_01 = robotics_sympy.DH(0,0,th1,0)\n",
    "T_01"
   ]
  },
  {
   "cell_type": "code",
   "execution_count": null,
   "id": "bd8eb346-b499-4f4e-8ffe-0c52ec168596",
   "metadata": {},
   "outputs": [],
   "source": []
  }
 ],
 "metadata": {
  "kernelspec": {
   "display_name": "Python 3 (ipykernel)",
   "language": "python",
   "name": "python3"
  },
  "language_info": {
   "codemirror_mode": {
    "name": "ipython",
    "version": 3
   },
   "file_extension": ".py",
   "mimetype": "text/x-python",
   "name": "python",
   "nbconvert_exporter": "python",
   "pygments_lexer": "ipython3",
   "version": "3.13.3"
  }
 },
 "nbformat": 4,
 "nbformat_minor": 5
}
